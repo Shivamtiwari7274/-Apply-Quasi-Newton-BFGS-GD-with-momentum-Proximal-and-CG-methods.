{
  "cells": [
    {
      "cell_type": "code",
      "execution_count": null,
      "metadata": {
        "id": "GcsCIAntMNdb"
      },
      "outputs": [],
      "source": [
        "import numpy as np\n",
        "import math\n",
        "import matplotlib.pyplot as plt\n",
        "from timeit import default_timer as timer\n",
        "np.random.seed(1000)"
      ]
    },
    {
      "cell_type": "markdown",
      "source": [
        "**Question 3 Part 1,2,3,4 and 5**"
      ],
      "metadata": {
        "id": "-wztpRV0sZX7"
      }
    },
    {
      "cell_type": "markdown",
      "source": [
        "1. Follow the link and solve it.\n",
        "\n",
        "2. Follow the link and solve it.\n",
        "\n",
        "3. With a starting point x0 =\n",
        "\u0002\n",
        "0 0 . . . 0\n",
        "\u0003⊤\n",
        "∈ R10, solve problem (1) using Newton’s method implemented with\n",
        "backtracking line search (use α0 = 0.99, ρ = 0.5, γ = 0.5 for backtracking line search, and τ = 10−4). Comment\n",
        "on difficulties (if any) you face when computing the inverse of Hessian (recall that you need to use an appropriate\n",
        "Python function to compute the inverse of the Hessian). If you face difficulty in computing inverse of Hessian,\n",
        "try to think of some remedy so that you can avoid the issue.\n",
        "• Let x∗ be the final optimal solution provided by your algorithm. Report the values of x∗ and ¯x, and discuss\n",
        "the observations.\n",
        "• Plot the values log(∥xk − x∗∥2) against iterations k = 0, 1, 2, . . ..\n",
        "\n",
        "Prepare a different plot for plotting log(|f(xk) − f(x∗)|) obtained from Newton’s method against the iterations.\n",
        "• Comment on the convergence rates of the iterates and the objective function values.\n",
        "\n",
        "4. With a starting point x0 =\n",
        "\u0002\n",
        "0 0 . . . 0\n",
        "\u0003⊤\n",
        "∈ R10, solve problem (1) using BFGS method implemented with\n",
        "backtracking line search (use α0 = 0.99, ρ = 0.5, γ = 0.5 for backtracking line search, and τ = 10−4).\n",
        "• Let x∗ be the final optimal solution provided by BFGS algorithm. Report the values of x∗ and ¯x, and discuss\n",
        "the observations.\n",
        "• Plot the values log(∥xk − x∗∥2) against iterations k = 0, 1, 2, . . ..\n",
        "• Prepare a different plot for plotting log(|f(xk)−f(x∗)|) obtained from BFGS method against the iterations.\n",
        "• Comment on the convergence rates of the iterates and the objective function values.\n",
        "5. Compare and contrast the results obtained by Newton’s method and BFGS method and comment on the time\n",
        "taken by both the methods."
      ],
      "metadata": {
        "id": "AGtblfROsNQO"
      }
    },
    {
      "cell_type": "code",
      "execution_count": null,
      "metadata": {
        "id": "HL-NunDfaLu3"
      },
      "outputs": [],
      "source": [
        "def create_data():\n",
        "    np.random.seed(1000)\n",
        "\n",
        "    A = np.random.randn(1000, 10)\n",
        "    x_bar = np.zeros(10)\n",
        "    for i in range(10):\n",
        "      if (i+1)%2 == 0:\n",
        "        x_bar[i] = np.random.uniform(low = i+1, high = i+2)\n",
        "      else:\n",
        "        x_bar[i] = np.random.uniform(low = -(i+2), high = -(i+1) )\n",
        "      x_bar = np.array(x_bar)\n",
        "      x_bar = x_bar.reshape(10,1)\n",
        "    epsilon = np.random.randn(1000, 1)\n",
        "    y = np.add(np.dot(A, x_bar), epsilon)\n",
        "\n",
        "    return A, x_bar, y"
      ]
    },
    {
      "cell_type": "code",
      "execution_count": null,
      "metadata": {
        "id": "SA1zWRO0xMd6"
      },
      "outputs": [],
      "source": [
        "#Now we will define a function which will compute and return the function value\n",
        "def evalf(A, x, y):\n",
        "    #Input: x is a numpy array of size 2\n",
        "    assert type(x) is np.ndarray\n",
        "    assert x.shape[0] == 10 and x.shape[1] == 1\n",
        "    assert type(y) is np.ndarray and len(y) == 1000\n",
        "\n",
        "    temp = np.subtract(np.dot(A,x),y)\n",
        "    fval = 0.5*np.linalg.norm(temp,2)**2\n",
        "    return fval\n"
      ]
    },
    {
      "cell_type": "code",
      "source": [
        "A,_,y = create_data()\n",
        "x = []\n",
        "for i in range(10):\n",
        "  x.append([1])\n",
        "x = np.array(x)"
      ],
      "metadata": {
        "id": "QtiZsHjJM0cU"
      },
      "execution_count": null,
      "outputs": []
    },
    {
      "cell_type": "code",
      "execution_count": null,
      "metadata": {
        "id": "QGFm2WVEFrjm"
      },
      "outputs": [],
      "source": [
        "#Now we will define a function which will compute and return the gradient value as a numpy array\n",
        "def evalg(A, x, y):\n",
        "    #Input: x is a numpy array of size 2\n",
        "    assert type(x) is np.ndarray and x.shape[0] == 10 and x.shape[1] == 1\n",
        "    assert type(y) is np.ndarray and len(y) == 1000\n",
        "\n",
        "    temp = np.dot(A,x) - y\n",
        "    grad = np.dot(A.T,temp)\n",
        "    return grad"
      ]
    },
    {
      "cell_type": "code",
      "execution_count": null,
      "metadata": {
        "id": "eDHJH4u9FvRc"
      },
      "outputs": [],
      "source": [
        "def evalh(A, x):\n",
        "    assert type(x) is np.ndarray and x.shape[0] == 10 and x.shape[1] == 1\n",
        "    hess = np.matmul(A.T, A)\n",
        "\n",
        "    return hess"
      ]
    },
    {
      "cell_type": "code",
      "source": [
        "def compute_D_k_newton(A, x):\n",
        "    assert type(x) is np.ndarray and x.shape[0] == 10 and x.shape[1] == 1\n",
        "    d = np.linalg.inv(evalh(A, x))\n",
        "    return d\n",
        "def compute_steplength_backtracking_scaled_direction(A, x, y, gradf, D_k, alpha_start, rho, gamma): #add appropriate arguments to the function\n",
        "    assert type(x) is np.ndarray and x.shape[0] == 10 and x.shape[1] == 1\n",
        "    assert type(y) is np.ndarray and len(y) == 1000\n",
        "    assert type(gradf) is np.ndarray and len(gradf) == 10\n",
        "    assert type(alpha_start) is float and alpha_start>=0.\n",
        "    assert type(rho) is float and rho>=0.\n",
        "    assert type(gamma) is float and gamma>=0.\n",
        "    assert type(D_k) is np.ndarray and len(D_k) == 10\n",
        "\n",
        "    alpha = alpha_start\n",
        "    p_k = -np.dot(D_k,gradf)\n",
        "    # while evalf(A, np.add(x, alpha*np.dot(D_k,p)), y) > np.subtract(evalf(A, x, y), gamma*alpha*np.dot(np.dot(D_k,gradf), gradf)):\n",
        "    while evalf(A, np.add(x,np.multiply(alpha,p_k)),y) > np.multiply(gamma*alpha,np.dot(gradf.T,p_k)) + evalf(A,x,y):\n",
        "        alpha = rho*alpha\n",
        "\n",
        "    return alpha"
      ],
      "metadata": {
        "id": "-XZoz0g0ND_c"
      },
      "execution_count": null,
      "outputs": []
    },
    {
      "cell_type": "code",
      "execution_count": null,
      "metadata": {
        "id": "CW36gGxBF0fL"
      },
      "outputs": [],
      "source": [
        "#line search type\n",
        "CONSTANT_STEP_LENGTH = 3\n",
        "BACKTRACKING_LINE_SEARCH = 2\n",
        "EXACT_LINE_SEARCH = 1"
      ]
    },
    {
      "cell_type": "code",
      "execution_count": null,
      "metadata": {
        "id": "kevIm2u3xleX"
      },
      "outputs": [],
      "source": [
        "#Method to find the minimizer using Newton's method\n",
        "def find_minimizer_Newtonmethod(start_x, A, y, tol, line_search_type, *args):\n",
        "    #Input: start_x is a numpy array of size n, tol denotes the tolerance and is a positive float value\n",
        "    assert type(start_x) is np.ndarray #do not allow arbitrary type arguments\n",
        "    assert start_x.shape[0] == 10 and start_x.shape[1] == 1\n",
        "    assert type(tol) is float and tol>=0\n",
        "\n",
        "    x = start_x\n",
        "    g_x = evalg(A, x, y)\n",
        "\n",
        "    x_array = [x]\n",
        "    f_array = [evalf(A, x,y)]\n",
        "    if line_search_type == BACKTRACKING_LINE_SEARCH:\n",
        "        if args is None:\n",
        "            err_msg = 'Line search type: BACKTRACKING_LINE_SEARCH, but did not receive any args. Please check!'\n",
        "            raise ValueError(err_msg)\n",
        "        elif len(args)<3 :\n",
        "            err_msg = 'Line search type: BACKTRACKING_LINE_SEARCH, but did not receive three args. Please check!'\n",
        "            raise ValueError(err_msg)\n",
        "        else:\n",
        "            alpha_start = float(args[0])\n",
        "            rho = float(args[1])\n",
        "            gamma = float(args[2])\n",
        "    k = 0\n",
        "\n",
        "    # print('iter:',k,  ' f(x):', evalf(x,n), ' gradient norm:', np.linalg.norm(g_x))\n",
        "\n",
        "    while (np.linalg.norm(g_x) > tol): #continue as long as the norm of gradient is not close to zero upto a tolerance tol\n",
        "        d_k = compute_D_k_newton(A, x)\n",
        "        if line_search_type == BACKTRACKING_LINE_SEARCH:\n",
        "            step_length = compute_steplength_backtracking_scaled_direction(A, x, y, g_x, d_k, alpha_start, rho, gamma)\n",
        "        elif line_search_type == CONSTANT_STEP_LENGTH:\n",
        "            step_length = 1.0\n",
        "        else:\n",
        "            raise ValueError('Line search type unknown. Please check!')\n",
        "\n",
        "        # Gradient descent steps\n",
        "        x = np.subtract(x, np.multiply(step_length,np.dot(d_k, g_x)))\n",
        "        k += 1\n",
        "        g_x = evalg(A, x, y)\n",
        "        x_array.append(x)\n",
        "        f_array.append(evalf(A, x,y))\n",
        "        # print('iter:',k, ' x:', x, ' f(x):', evalf(A, x, y), ' grad at x:', g_x, ' gradient norm:', np.linalg.norm(g_x))\n",
        "\n",
        "    return x_array, f_array, k"
      ]
    },
    {
      "cell_type": "code",
      "execution_count": null,
      "metadata": {
        "id": "z1MErjxAZ410"
      },
      "outputs": [],
      "source": [
        "#Method to find minimizer using BFGS method\n",
        "def find_minimizer_BFGS(start_x, A, y, tol, line_search_type, *args):\n",
        "    assert type(start_x) is np.ndarray\n",
        "    assert start_x.shape[0] == 10 and start_x.shape[1] == 1\n",
        "    assert type(tol) is float and tol>=0\n",
        "\n",
        "    x = start_x\n",
        "    g_x = evalg(A, x, y)\n",
        "\n",
        "    if line_search_type == BACKTRACKING_LINE_SEARCH:\n",
        "        if args is None:\n",
        "            err_msg = 'Line search type: BACKTRACKING_LINE_SEARCH, but did not receive any args. Please check!'\n",
        "            raise ValueError(err_msg)\n",
        "        elif len(args)<3 :\n",
        "            err_msg = 'Line search type: BACKTRACKING_LINE_SEARCH, but did not receive three args. Please check!'\n",
        "            raise ValueError(err_msg)\n",
        "        else:\n",
        "            alpha_start = float(args[0])\n",
        "            rho = float(args[1])\n",
        "            gamma = float(args[2])\n",
        "    k = 0\n",
        "    B = np.identity(10)\n",
        "    x_array = [x]\n",
        "    f_array = [evalf(A, x,y)]\n",
        "\n",
        "    while (np.linalg.norm(g_x) > tol):\n",
        "        p = -np.dot(B, g_x)\n",
        "        if line_search_type == BACKTRACKING_LINE_SEARCH:\n",
        "            d_k = B\n",
        "            step_length = compute_steplength_backtracking_scaled_direction(A, x, y, g_x, d_k, alpha_start, rho, gamma)\n",
        "        elif line_search_type == CONSTANT_STEP_LENGTH:\n",
        "            step_length = 1.0\n",
        "        else:\n",
        "            raise ValueError('Line search type unknown. Please check!')\n",
        "\n",
        "        # Gradient descent steps\n",
        "        x_next = np.add(x, np.multiply(step_length,p))\n",
        "        s_k = x_next - x\n",
        "        y_k = evalg(A, x_next,y) - g_x\n",
        "        mu_k = 1.0/np.dot(y_k.T, s_k)\n",
        "        temp = (np.identity(10) - np.multiply(mu_k,np.outer(y_k, s_k.T)))\n",
        "        B = np.dot(temp.T, np.dot(B, temp)) + np.multiply(mu_k, np.outer(s_k, s_k.T))\n",
        "        k += 1\n",
        "        x = x_next\n",
        "        g_x = evalg(A, x, y)\n",
        "\n",
        "        x_array.append(x)\n",
        "        f_array.append(evalf(A, x, y))\n",
        "        # print('iter:',k, ' x:', x, ' f(x):', evalf(A, x, y), ' grad at x:', g_x, ' gradient norm:', np.linalg.norm(g_x))\n",
        "\n",
        "\n",
        "    return x_array, f_array, k"
      ]
    },
    {
      "cell_type": "code",
      "source": [
        "A, x_bar, y = create_data()\n",
        "my_start_x = []\n",
        "for i in range(10):\n",
        "  my_start_x.append([0])\n",
        "my_start_x=np.array(my_start_x)"
      ],
      "metadata": {
        "id": "zlFBB0-XNWi_"
      },
      "execution_count": null,
      "outputs": []
    },
    {
      "cell_type": "code",
      "execution_count": null,
      "metadata": {
        "colab": {
          "base_uri": "https://localhost:8080/",
          "height": 908
        },
        "id": "bNFF0CQsZ56y",
        "outputId": "8980acea-c003-488e-d335-7abfafcc52aa"
      },
      "outputs": [
        {
          "output_type": "stream",
          "name": "stdout",
          "text": [
            "\n",
            "Results obtained from Newton method (with backtracking)\n",
            "Minimizer: [[-1.04982253]\n",
            " [ 2.95189743]\n",
            " [-3.34298192]\n",
            " [ 4.60956007]\n",
            " [-5.71176195]\n",
            " [ 6.89877618]\n",
            " [-7.62879358]\n",
            " [ 8.16821112]\n",
            " [-9.22221199]\n",
            " [10.05669293]],\n",
            "Final Objective function value: 505.647329524551,\n",
            "Iterations taken to terminate: 5\n",
            "\n",
            "\n",
            "Actual x_bar: [[-1.06258705]\n",
            " [ 2.94307072]\n",
            " [-3.34150552]\n",
            " [ 4.58252615]\n",
            " [-5.75947573]\n",
            " [ 6.93512469]\n",
            " [-7.61893094]\n",
            " [ 8.16818187]\n",
            " [-9.2179964 ]\n",
            " [10.00022174]]\n",
            "\n",
            "Time taken to find minimizer by Newton's method: 0.0026267569999731677\n",
            "\n"
          ]
        },
        {
          "output_type": "stream",
          "name": "stderr",
          "text": [
            "/usr/local/lib/python3.7/dist-packages/ipykernel_launcher.py:20: RuntimeWarning: divide by zero encountered in log\n"
          ]
        },
        {
          "output_type": "execute_result",
          "data": {
            "text/plain": [
              "<matplotlib.legend.Legend at 0x7f559e3f2d10>"
            ]
          },
          "metadata": {},
          "execution_count": 27
        },
        {
          "output_type": "display_data",
          "data": {
            "image/png": "[encoded data removed]",
            "text/plain": [
              "<Figure size 504x360 with 1 Axes>"
            ]
          },
          "metadata": {
            "needs_background": "light"
          }
        }
      ],
      "source": [
        "#Trying out for a small case of Newton's method with backtracking search\n",
        "my_tol= 1e-5\n",
        "alpha_start = 0.99\n",
        "rho = 0.5\n",
        "gamma = 0.5\n",
        "start_time = timer()\n",
        "x_array_newton, f_array_newton, iters_opt_newton = find_minimizer_Newtonmethod(my_start_x, A, y, my_tol, BACKTRACKING_LINE_SEARCH, alpha_start, rho, gamma)\n",
        "end_time = timer()\n",
        "times_newton = end_time - start_time\n",
        "print(f\"\\nResults obtained from Newton method (with backtracking)\\nMinimizer: {x_array_newton[-1]},\\nFinal Objective function value: {f_array_newton[-1]},\\nIterations taken to terminate: {iters_opt_newton}\\n\")\n",
        "print('')\n",
        "print(f'Actual x_bar: {x_bar}\\n')\n",
        "print(f\"Time taken to find minimizer by Newton's method: {times_newton}\")\n",
        "print('')\n",
        "\n",
        "\n",
        "x_opt = x_array_newton[-1]\n",
        "plot_x = []\n",
        "for i in range(len(x_array_newton)):\n",
        "    plot_x.append(np.log(np.linalg.norm(x_array_newton[i] - x_opt)))\n",
        "\n",
        "fig, ax = plt.subplots(1,1, figsize = (7,5))\n",
        "fig.suptitle(\"Plot 1: Newton's method log(||x^k - x*||)\", fontweight= 'bold')\n",
        "ax.plot(np.arange(len(x_array_newton)), plot_x, 'o-', label = \"Newton's method\")\n",
        "ax.set_xlabel(\" Iteration k\")\n",
        "ax.set_ylabel(\"log ( ||x^k - x*||2 )\")\n",
        "ax.legend()"
      ]
    },
    {
      "cell_type": "code",
      "source": [
        "f_opt = f_array_newton[-1]\n",
        "plot_fx = []\n",
        "for i in range(len(f_array_newton)):\n",
        "    plot_fx.append(np.log(np.abs(f_array_newton[i] - f_opt)))\n",
        "\n",
        "fig2, ax = plt.subplots(1,1, figsize = (7,5))\n",
        "fig2.suptitle(\"Plot 2: Newton's method log( |f(x^k) - f(x*)| )\", fontweight= 'bold')\n",
        "ax.plot(np.arange(len(f_array_newton)), plot_fx, 'o-', label = \"Newton's method\")\n",
        "ax.set_xlabel(\" Iteration k\")\n",
        "ax.set_ylabel(\"log ( |f(x^k) - f(x*)| )\")\n",
        "ax.legend()"
      ],
      "metadata": {
        "colab": {
          "base_uri": "https://localhost:8080/",
          "height": 422
        },
        "id": "5T_gHcZuNlun",
        "outputId": "0837678d-c23c-42d7-dfe4-2f2ef2493688"
      },
      "execution_count": null,
      "outputs": [
        {
          "output_type": "stream",
          "name": "stderr",
          "text": [
            "/usr/local/lib/python3.7/dist-packages/ipykernel_launcher.py:4: RuntimeWarning: divide by zero encountered in log\n",
            "  after removing the cwd from sys.path.\n"
          ]
        },
        {
          "output_type": "execute_result",
          "data": {
            "text/plain": [
              "<matplotlib.legend.Legend at 0x7f559e41c2d0>"
            ]
          },
          "metadata": {},
          "execution_count": 28
        },
        {
          "output_type": "display_data",
          "data": {
            "image/png": "[encoded data removed]",
            "text/plain": [
              "<Figure size 504x360 with 1 Axes>"
            ]
          },
          "metadata": {
            "needs_background": "light"
          }
        }
      ]
    },
    {
      "cell_type": "markdown",
      "source": [
        "Newton's Method with backtracking line search\n",
        "\n",
        "α=0.99,ρ=0.5,γ=0.5"
      ],
      "metadata": {
        "id": "OG-FuXBHN3kZ"
      }
    },
    {
      "cell_type": "markdown",
      "source": [
        "Let x∗ be the final optimal solution provided by our algorithm.\n",
        "\n",
        "The values of x∗=[[-1.04982253]\n",
        " [ 2.95189743]\n",
        " [-3.34298192]\n",
        " [ 4.60956007]\n",
        " [-5.71176195]\n",
        " [ 6.89877618]\n",
        " [-7.62879358]\n",
        " [ 8.16821112]\n",
        " [-9.22221199]\n",
        " [10.05669293]],\n",
        "\n",
        "x¯=[[-1.06258705]\n",
        " [ 2.94307072]\n",
        " [-3.34150552]\n",
        " [ 4.58252615]\n",
        " [-5.75947573]\n",
        " [ 6.93512469]\n",
        " [-7.61893094]\n",
        " [ 8.16818187]\n",
        " [-9.2179964 ]\n",
        " [10.00022174]]\n",
        "\n",
        "f(x∗)=505.647329524551\n",
        "\n",
        "f(x¯)=505.647329524551\n",
        "\n",
        "Both values x∗ and x¯ are almost same with tolerance precision.\n",
        "\n",
        "Both values f(x∗) and f(x¯) are almost same with tolerance precision.\n",
        "\n",
        "The convergence rate is same and Q-quadratic for both the iterates and the objective function values. Initially It is converging so quickly and after some time it starts converging somewhat slowly."
      ],
      "metadata": {
        "id": "trCjUArbSJyt"
      }
    },
    {
      "cell_type": "code",
      "execution_count": null,
      "metadata": {
        "colab": {
          "base_uri": "https://localhost:8080/",
          "height": 908
        },
        "id": "Y1dUIgqCww1y",
        "outputId": "82060b6d-b0d4-40bf-a96a-41551f1da467"
      },
      "outputs": [
        {
          "output_type": "stream",
          "name": "stdout",
          "text": [
            "\n",
            "Results obtained from BFGS method (with backtracking)\n",
            "Minimizer: [[-1.04982253]\n",
            " [ 2.95189743]\n",
            " [-3.34298192]\n",
            " [ 4.60956007]\n",
            " [-5.71176195]\n",
            " [ 6.89877618]\n",
            " [-7.62879358]\n",
            " [ 8.16821111]\n",
            " [-9.22221199]\n",
            " [10.05669293]],\n",
            "Final Objective function value: 505.64732952455125,\n",
            "Iterations taken to terminate: 18\n",
            "\n",
            "\n",
            "Actual x_bar: [[-1.06258705]\n",
            " [ 2.94307072]\n",
            " [-3.34150552]\n",
            " [ 4.58252615]\n",
            " [-5.75947573]\n",
            " [ 6.93512469]\n",
            " [-7.61893094]\n",
            " [ 8.16818187]\n",
            " [-9.2179964 ]\n",
            " [10.00022174]]\n",
            "\n",
            "Time taken to find minimizer by BFGS method: 0.025049784999964686\n",
            "\n"
          ]
        },
        {
          "output_type": "stream",
          "name": "stderr",
          "text": [
            "/usr/local/lib/python3.7/dist-packages/ipykernel_launcher.py:22: RuntimeWarning: divide by zero encountered in log\n"
          ]
        },
        {
          "output_type": "execute_result",
          "data": {
            "text/plain": [
              "<matplotlib.legend.Legend at 0x7f559e3f28d0>"
            ]
          },
          "metadata": {},
          "execution_count": 29
        },
        {
          "output_type": "display_data",
          "data": {
            "image/png": "[encoded data removed]",
            "text/plain": [
              "<Figure size 504x360 with 1 Axes>"
            ]
          },
          "metadata": {
            "needs_background": "light"
          }
        }
      ],
      "source": [
        "my_start_x = []\n",
        "for i in range(10):\n",
        "  my_start_x.append([0])\n",
        "my_start_x=np.array(my_start_x)\n",
        "my_tol= 1e-5\n",
        "alpha_start = 0.99\n",
        "rho = 0.5\n",
        "gamma = 0.5\n",
        "start_time = timer()\n",
        "x_array_bfgs, f_array_bfgs, iters_opt_bfgs = find_minimizer_BFGS(my_start_x, A, y, my_tol, BACKTRACKING_LINE_SEARCH, alpha_start, rho, gamma)\n",
        "end_time = timer()\n",
        "time_bfgs = end_time - start_time\n",
        "print(f\"\\nResults obtained from BFGS method (with backtracking)\\nMinimizer: {x_array_bfgs[-1]},\\nFinal Objective function value: {f_array_bfgs[-1]},\\nIterations taken to terminate: {iters_opt_bfgs}\\n\")\n",
        "print('')\n",
        "print(f'Actual x_bar: {x_bar}\\n')\n",
        "print(f\"Time taken to find minimizer by BFGS method: {time_bfgs}\")\n",
        "print('')\n",
        "\n",
        "x_opt = x_array_bfgs[-1]\n",
        "plot_x_bfgs = []\n",
        "for i in range(len(x_array_bfgs)):\n",
        "    plot_x_bfgs.append(np.log(np.linalg.norm(x_array_bfgs[i] - x_opt)))\n",
        "\n",
        "fig, ax = plt.subplots(1,1, figsize = (7,5))\n",
        "fig.suptitle(\"Plot 3: BFGS method log(||x^k - x*||)\", fontweight= 'bold')\n",
        "ax.plot(np.arange(len(x_array_bfgs)), plot_x_bfgs, 'o-', label = \"Newton's method\")\n",
        "ax.set_xlabel(\" Iteration k\")\n",
        "ax.set_ylabel(\"log ( ||x^k - x*||2 )\")\n",
        "ax.legend()"
      ]
    },
    {
      "cell_type": "code",
      "source": [
        "f_opt_bfgs = f_array_bfgs[-1]\n",
        "plot_fx_bfgs = []\n",
        "for i in range(len(f_array_bfgs)):\n",
        "    plot_fx_bfgs.append(np.log(np.abs(f_array_bfgs[i] - f_opt_bfgs)))\n",
        "\n",
        "fig2, ax = plt.subplots(1,1, figsize = (7,5))\n",
        "fig2.suptitle(\"Plot 4: BFGS method log( |f(x^k) - f(x*)| )\", fontweight= 'bold')\n",
        "ax.plot(np.arange(len(f_array_bfgs)), plot_fx_bfgs, 'o-', label = \"Newton's method\")\n",
        "ax.set_xlabel(\" Iteration k\")\n",
        "ax.set_ylabel(\"log ( |f(x^k) - f(x*)| )\")\n",
        "ax.legend()"
      ],
      "metadata": {
        "colab": {
          "base_uri": "https://localhost:8080/",
          "height": 422
        },
        "id": "MzoGqokpNt6i",
        "outputId": "53abd536-dc4a-4dbf-86bc-49549aaccf95"
      },
      "execution_count": null,
      "outputs": [
        {
          "output_type": "stream",
          "name": "stderr",
          "text": [
            "/usr/local/lib/python3.7/dist-packages/ipykernel_launcher.py:4: RuntimeWarning: divide by zero encountered in log\n",
            "  after removing the cwd from sys.path.\n"
          ]
        },
        {
          "output_type": "execute_result",
          "data": {
            "text/plain": [
              "<matplotlib.legend.Legend at 0x7f559e229810>"
            ]
          },
          "metadata": {},
          "execution_count": 30
        },
        {
          "output_type": "display_data",
          "data": {
            "image/png": "[encoded data removed]",
            "text/plain": [
              "<Figure size 504x360 with 1 Axes>"
            ]
          },
          "metadata": {
            "needs_background": "light"
          }
        }
      ]
    },
    {
      "cell_type": "markdown",
      "source": [
        "Let x∗ be the final optimal solution provided by our algorithm.\n",
        "\n",
        "The values of x∗=[[-1.04982253]\n",
        " [ 2.95189743]\n",
        " [-3.34298192]\n",
        " [ 4.60956007]\n",
        " [-5.71176195]\n",
        " [ 6.89877618]\n",
        " [-7.62879358]\n",
        " [ 8.16821111]\n",
        " [-9.22221199]\n",
        " [10.05669293]]\n",
        "\n",
        "x¯=[[-1.06258705]\n",
        " [ 2.94307072]\n",
        " [-3.34150552]\n",
        " [ 4.58252615]\n",
        " [-5.75947573]\n",
        " [ 6.93512469]\n",
        " [-7.61893094]\n",
        " [ 8.16818187]\n",
        " [-9.2179964 ]\n",
        " [10.00022174]]\n",
        "\n",
        "f(x∗)= 505.64732952455125\n",
        "\n",
        "f(x¯)= 505.64732952455125\n",
        "\n",
        "Both values x∗ and x¯ are almost same with tolerance precision.\n",
        "\n",
        "Both values f(x∗) and f(x¯) are almost same with tolerance precision.\n",
        "\n",
        "The convergence rate is same and Q-quadratic for both the iterates and the objective function values. nitially It is converging so quickly and after some time it starts converging somewhat slowly. For first few values of k, it is purturbing a but but after that it converges so quickly."
      ],
      "metadata": {
        "id": "YPzY-TjANyxl"
      }
    }
  ],
  "metadata": {
    "colab": {
      "provenance": []
    },
    "kernelspec": {
      "display_name": "Python 3",
      "language": "python",
      "name": "python3"
    },
    "language_info": {
      "codemirror_mode": {
        "name": "ipython",
        "version": 3
      },
      "file_extension": ".py",
      "mimetype": "text/x-python",
      "name": "python",
      "nbconvert_exporter": "python",
      "pygments_lexer": "ipython3",
      "version": "3.8.3"
    }
  },
  "nbformat": 4,
  "nbformat_minor": 0
}